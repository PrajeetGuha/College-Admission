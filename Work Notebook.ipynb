{
 "cells": [
  {
   "cell_type": "code",
   "execution_count": null,
   "metadata": {},
   "outputs": [],
   "source": [
    "import tkinter as tk\n",
    "import pandas as pd\n",
    "from win32api import GetSystemMetrics\n",
    "from PIL import Image,ImageTk\n",
    "\n",
    "class app(tk.Frame):\n",
    "    \n",
    "    def __init__(self,master = None):\n",
    "        \n",
    "        super().__init__()\n",
    "        self.master = master\n",
    "        self.width = GetSystemMetrics(0)\n",
    "        self.height = GetSystemMetrics(1)\n",
    "        self.master.resizable(0,0)\n",
    "        self.master.state('zoomed')\n",
    "        dimension = f'{self.width}x{self.height}'\n",
    "        self.master.geometry(dimension)\n",
    "        self.pack()\n",
    "        \n",
    "        self.font = f'Arial {int(0.013*self.height)} bold'\n",
    "        \n",
    "        self.main_Canvas = tk.Canvas(self,height = self.height, width = self.width, highlightthickness = 0)\n",
    "        self.main_Canvas.pack(padx = 0, pady = 0,fill = 'both', expand = True)\n",
    "        self.home_window()\n",
    "        \n",
    "    def home_window(self):\n",
    "        \n",
    "        background_image = Image.open('assets/background_image.png').resize((self.width, self.height))\n",
    "        logo = Image.open('assets/logo.png').resize((int(0.219*self.width), int(0.390*self.height)))\n",
    "        new_background_image = Image.new('RGBA', (self.width,self.height), (0,0,0,0))\n",
    "        new_background_image.paste(background_image, (0,0))\n",
    "        new_background_image.paste(logo, (int(self.width/2.65), int(self.height/11)), mask = logo)\n",
    "        tk_background_Image = ImageTk.PhotoImage(new_background_image)\n",
    "        \n",
    "        self.main_Canvas.create_image(self.width/2, self.height/2, image = tk_background_Image)\n",
    "        self.main_Canvas.image = tk_background_Image\n",
    "        \n",
    "        welcome_canvas = tk.Canvas(self.main_Canvas, height = self.height/3, width = self.width/1.5, bg = 'white',highlightcolor = 'black')\n",
    "        self.main_Canvas.create_window(self.width/2, self.height/1.3, window = welcome_canvas)\n",
    "        \n",
    "        about_button = tk.Button(self.main_Canvas, text = 'ABOUT US', fg = 'white', bg = 'blue', font = self.font, width = int(0.014*self.width))\n",
    "        self.main_Canvas.create_window(self.width/2.35, self.height/1.85, window = about_button)\n",
    "        \n",
    "        admission_button = tk.Button(self.main_Canvas, text = 'ADMISSION FORM', fg = 'white', bg = 'blue', font = self.font, width = int(0.014*self.width))\n",
    "        self.main_Canvas.create_window(self.width/1.82, self.height/1.85, window = admission_button)\n",
    "        \n",
    "root = tk.Tk()\n",
    "a = app(root)\n",
    "a.mainloop()"
   ]
  },
  {
   "cell_type": "code",
   "execution_count": 60,
   "metadata": {},
   "outputs": [
    {
     "data": {
      "text/plain": [
       "0.014641288433382138"
      ]
     },
     "execution_count": 60,
     "metadata": {},
     "output_type": "execute_result"
    }
   ],
   "source": [
    "width = GetSystemMetrics(0)\n",
    "height = GetSystemMetrics(1)\n",
    "\n",
    "20/width"
   ]
  },
  {
   "cell_type": "code",
   "execution_count": null,
   "metadata": {},
   "outputs": [],
   "source": []
  }
 ],
 "metadata": {
  "kernelspec": {
   "display_name": "Python 3",
   "language": "python",
   "name": "python3"
  },
  "language_info": {
   "codemirror_mode": {
    "name": "ipython",
    "version": 3
   },
   "file_extension": ".py",
   "mimetype": "text/x-python",
   "name": "python",
   "nbconvert_exporter": "python",
   "pygments_lexer": "ipython3",
   "version": "3.7.6"
  }
 },
 "nbformat": 4,
 "nbformat_minor": 4
}
